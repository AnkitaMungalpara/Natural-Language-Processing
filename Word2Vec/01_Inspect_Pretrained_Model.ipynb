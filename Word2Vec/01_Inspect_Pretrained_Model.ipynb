{
  "nbformat": 4,
  "nbformat_minor": 0,
  "metadata": {
    "colab": {
      "provenance": []
    },
    "kernelspec": {
      "name": "python3",
      "display_name": "Python 3"
    },
    "language_info": {
      "name": "python"
    }
  },
  "cells": [
    {
      "cell_type": "markdown",
      "source": [
        "## Download Pre-trained Model Files\n",
        "\n",
        "1. [index2word](https://drive.google.com/uc?id=1ERZ4QgVj8OCqpPhn2766MGB7yqJj3Lvy) : Contains mapping from index to word. Each index corresponds to unique word in vocabulary.\n",
        "2. [word2index](https://drive.google.com/uc?id=1EZ4W5RZlrahl8W4AjlJxYSMeMkj9Cg_s) : Contains mapping from word to index. Each word in Vocabulary is mapped to unique index.\n",
        "3. [word2count](https://drive.google.com/uc?id=1E_o1iA8AaOy6kDYLvyvLW1SUfFxAELpN) : Contains count of each word in the corpus. It provides frequency information for the words present in the vocabulary.\n",
        "4. [word_vectors](https://drive.google.com/uc?id=1EOON9R2CnD7us1Zd_XfRkmtLEn27gGzi) : Contains word vectors. Each word is represented as dense vector in a high-dimensional space, capturing semantic relationships between words."
      ],
      "metadata": {
        "id": "osySvNZO9vsW"
      }
    },
    {
      "cell_type": "markdown",
      "source": [
        "## Data Structures"
      ],
      "metadata": {
        "id": "rW66H6KDcl5h"
      }
    },
    {
      "cell_type": "markdown",
      "source": [
        "### Vectors"
      ],
      "metadata": {
        "id": "Jb3aqop6coAM"
      }
    },
    {
      "cell_type": "code",
      "source": [
        "import numpy as np"
      ],
      "metadata": {
        "id": "0evEiGZ8cWTq"
      },
      "execution_count": null,
      "outputs": []
    },
    {
      "cell_type": "code",
      "source": [
        "# load the word vectors\n",
        "vectors = np.load('./data/word_vectors.npy')"
      ],
      "metadata": {
        "id": "b2bFnRrscq7n"
      },
      "execution_count": null,
      "outputs": []
    },
    {
      "cell_type": "code",
      "source": [
        "# type of vectors object\n",
        "type(vectors)"
      ],
      "metadata": {
        "colab": {
          "base_uri": "https://localhost:8080/"
        },
        "id": "NnPu4gyBdGgs",
        "outputId": "ae49a077-f633-4898-f318-ae4be2521c14"
      },
      "execution_count": null,
      "outputs": [
        {
          "output_type": "execute_result",
          "data": {
            "text/plain": [
              "numpy.ndarray"
            ]
          },
          "metadata": {},
          "execution_count": 3
        }
      ]
    },
    {
      "cell_type": "code",
      "source": [
        "# shape of vectors object\n",
        "vectors.shape"
      ],
      "metadata": {
        "colab": {
          "base_uri": "https://localhost:8080/"
        },
        "id": "CBSKfbjUdKW5",
        "outputId": "c399c646-922b-4c13-fc6c-8e6151754eca"
      },
      "execution_count": null,
      "outputs": [
        {
          "output_type": "execute_result",
          "data": {
            "text/plain": [
              "(71038, 100)"
            ]
          },
          "metadata": {},
          "execution_count": 4
        }
      ]
    },
    {
      "cell_type": "markdown",
      "source": [
        "### word2index"
      ],
      "metadata": {
        "id": "ozvuJNpMdQpF"
      }
    },
    {
      "cell_type": "code",
      "source": [
        "import pickle"
      ],
      "metadata": {
        "id": "x-P9pn2MdQaN"
      },
      "execution_count": null,
      "outputs": []
    },
    {
      "cell_type": "code",
      "source": [
        "with open('./data/word2index.p', 'rb') as file:\n",
        "  word2index = pickle.load(file)"
      ],
      "metadata": {
        "id": "ust9BBTidOhL"
      },
      "execution_count": null,
      "outputs": []
    },
    {
      "cell_type": "code",
      "source": [
        "# type of word2index object\n",
        "type(word2index)"
      ],
      "metadata": {
        "colab": {
          "base_uri": "https://localhost:8080/"
        },
        "id": "9WX9-bsBlUIl",
        "outputId": "7d2f6779-fbf7-4f00-ba70-bdad7b96d5a9"
      },
      "execution_count": null,
      "outputs": [
        {
          "output_type": "execute_result",
          "data": {
            "text/plain": [
              "dict"
            ]
          },
          "metadata": {},
          "execution_count": 7
        }
      ]
    },
    {
      "cell_type": "code",
      "source": [
        "# example: row index of word learning\n",
        "word2index['learning']"
      ],
      "metadata": {
        "colab": {
          "base_uri": "https://localhost:8080/"
        },
        "id": "HAnVnvyTlaaN",
        "outputId": "f4174030-8292-459c-a552-35b6c935c30f"
      },
      "execution_count": null,
      "outputs": [
        {
          "output_type": "execute_result",
          "data": {
            "text/plain": [
              "2140"
            ]
          },
          "metadata": {},
          "execution_count": 8
        }
      ]
    },
    {
      "cell_type": "code",
      "source": [
        "# word vector for word 'learning'\n",
        "learning_vector = vectors[2140, :]\n",
        "learning_vector"
      ],
      "metadata": {
        "colab": {
          "base_uri": "https://localhost:8080/"
        },
        "id": "Sc5Rq8dtlhMG",
        "outputId": "56579f70-9ddb-4f6a-a958-f8aedacbf592"
      },
      "execution_count": null,
      "outputs": [
        {
          "output_type": "execute_result",
          "data": {
            "text/plain": [
              "array([ 0.24716082, -0.30259633, -1.345159  , -0.12339929,  2.4792805 ,\n",
              "        0.9953726 , -1.3433481 , -0.8717486 ,  1.0983564 , -0.05275682,\n",
              "       -1.5477703 , -1.1771201 , -0.0950046 , -1.3736763 ,  0.37888923,\n",
              "        0.7830212 , -0.36164594,  0.6805675 ,  0.6083636 , -2.8383696 ,\n",
              "       -0.96120656,  1.1874726 , -2.2006016 , -0.77534235, -0.32964253,\n",
              "       -2.427553  ,  0.93405133, -1.6974264 , -0.07256353, -0.88881356,\n",
              "        2.6170597 , -0.19045378, -1.347091  ,  1.945401  ,  2.6286683 ,\n",
              "       -0.70689696, -1.8103917 ,  1.1431001 ,  1.3233315 ,  0.6286631 ,\n",
              "        3.2105265 , -1.0996383 ,  1.5411208 , -0.51036686, -0.74462676,\n",
              "        0.68046856,  0.77482533, -0.51766956, -1.3687072 ,  3.0850441 ,\n",
              "       -2.553495  , -1.0150945 ,  3.010778  , -0.29978782,  0.9928824 ,\n",
              "       -1.2744952 , -3.0208333 , -0.04049446, -0.38001883,  1.9946039 ,\n",
              "       -0.22847115,  2.8461897 ,  4.1806817 ,  1.6993071 , -0.75763863,\n",
              "        1.3950671 ,  0.9279264 ,  1.0675238 , -1.9981278 , -0.29265708,\n",
              "        0.53523743, -0.55595994, -0.15693536,  0.8854882 , -1.0725785 ,\n",
              "       -0.6351888 , -0.39779344, -0.34228513, -0.63273215,  0.4053036 ,\n",
              "       -0.7379043 , -0.05317514,  1.1595514 ,  1.7563624 ,  0.32177913,\n",
              "        1.3343112 ,  0.04273355,  0.06082178,  0.9753734 ,  0.04700706,\n",
              "       -0.6228216 , -0.2142652 ,  2.3743148 ,  0.9625548 , -0.8021744 ,\n",
              "        1.0495046 , -0.5926599 , -1.4776725 ,  1.6685612 ,  2.43889   ],\n",
              "      dtype=float32)"
            ]
          },
          "metadata": {},
          "execution_count": 9
        }
      ]
    },
    {
      "cell_type": "markdown",
      "source": [
        "### index2word"
      ],
      "metadata": {
        "id": "amsFAowRmT0d"
      }
    },
    {
      "cell_type": "code",
      "source": [
        "# loading index2word pretrained model\n",
        "with open('./data/index2word.p', 'rb') as file:\n",
        "  index2word = pickle.load(file)"
      ],
      "metadata": {
        "id": "DsQxijyKmEmx"
      },
      "execution_count": null,
      "outputs": []
    },
    {
      "cell_type": "code",
      "source": [
        "# type of index2word object\n",
        "type(index2word)"
      ],
      "metadata": {
        "colab": {
          "base_uri": "https://localhost:8080/"
        },
        "id": "2RZnq36CnWIB",
        "outputId": "4c5abd2d-ebcb-4edd-ebdc-5fd67d5ad381"
      },
      "execution_count": null,
      "outputs": [
        {
          "output_type": "execute_result",
          "data": {
            "text/plain": [
              "list"
            ]
          },
          "metadata": {},
          "execution_count": 11
        }
      ]
    },
    {
      "cell_type": "code",
      "source": [
        "# length of index2word object\n",
        "len(index2word)"
      ],
      "metadata": {
        "colab": {
          "base_uri": "https://localhost:8080/"
        },
        "id": "eo1kKPcQncgk",
        "outputId": "d535b06e-e26c-4d20-9ab8-56f7769dbd1f"
      },
      "execution_count": null,
      "outputs": [
        {
          "output_type": "execute_result",
          "data": {
            "text/plain": [
              "71038"
            ]
          },
          "metadata": {},
          "execution_count": 12
        }
      ]
    },
    {
      "cell_type": "code",
      "source": [
        "# exploring first and last element of the list\n",
        "index2word[0], index2word[-1]"
      ],
      "metadata": {
        "colab": {
          "base_uri": "https://localhost:8080/"
        },
        "id": "B_xBRL_CnlLI",
        "outputId": "aef73f62-8341-4474-90cb-bbb74d63f4df"
      },
      "execution_count": null,
      "outputs": [
        {
          "output_type": "execute_result",
          "data": {
            "text/plain": [
              "('the', 'fuggin')"
            ]
          },
          "metadata": {},
          "execution_count": 13
        }
      ]
    },
    {
      "cell_type": "markdown",
      "source": [
        "### word2count"
      ],
      "metadata": {
        "id": "5PQm3qoqn3rT"
      }
    },
    {
      "cell_type": "code",
      "source": [
        "# loading word2count pretrained model\n",
        "with open('./data/word2count.p', 'rb') as file:\n",
        "  word2count = pickle.load(file)"
      ],
      "metadata": {
        "id": "WUo_6vitn0ur"
      },
      "execution_count": null,
      "outputs": []
    },
    {
      "cell_type": "code",
      "source": [
        "# type of word2count object\n",
        "type(word2count)"
      ],
      "metadata": {
        "colab": {
          "base_uri": "https://localhost:8080/"
        },
        "id": "BdmjB6gdoyRK",
        "outputId": "e6f4b775-05e3-417e-cdbf-032059ee5ab3"
      },
      "execution_count": null,
      "outputs": [
        {
          "output_type": "execute_result",
          "data": {
            "text/plain": [
              "dict"
            ]
          },
          "metadata": {},
          "execution_count": 15
        }
      ]
    },
    {
      "cell_type": "code",
      "source": [
        "# write occurances of word 'learning' in pre-trained dataset\n",
        "word2count['learning']"
      ],
      "metadata": {
        "colab": {
          "base_uri": "https://localhost:8080/"
        },
        "id": "JSi4zDASo2KE",
        "outputId": "83efbe59-c0ea-49f1-97f7-4df9d5190187"
      },
      "execution_count": null,
      "outputs": [
        {
          "output_type": "execute_result",
          "data": {
            "text/plain": [
              "337"
            ]
          },
          "metadata": {},
          "execution_count": 16
        }
      ]
    },
    {
      "cell_type": "markdown",
      "source": [
        "## Vocabulary Contents"
      ],
      "metadata": {
        "id": "5YJZOCi51eGY"
      }
    },
    {
      "cell_type": "code",
      "source": [
        "# top 10 most frequent words\n",
        "index2word[:10]"
      ],
      "metadata": {
        "colab": {
          "base_uri": "https://localhost:8080/"
        },
        "id": "X90XUaq11cfs",
        "outputId": "4627c4d6-c3bd-4492-fccb-6296eefe316b"
      },
      "execution_count": null,
      "outputs": [
        {
          "output_type": "execute_result",
          "data": {
            "text/plain": [
              "['the', 'to', 'and', 'you', 'of', 'is', 'that', 'in', 'it', 'this']"
            ]
          },
          "metadata": {},
          "execution_count": 17
        }
      ]
    },
    {
      "cell_type": "code",
      "source": [
        "# printing 20 random words\n",
        "import random\n",
        "\n",
        "count = 0\n",
        "while count < 20:\n",
        "  print(random.choice(index2word))\n",
        "  count += 1"
      ],
      "metadata": {
        "colab": {
          "base_uri": "https://localhost:8080/"
        },
        "id": "kndvRvgx2DYr",
        "outputId": "9faab9ce-44c9-4d24-a8dc-812fdabc6bca"
      },
      "execution_count": null,
      "outputs": [
        {
          "output_type": "stream",
          "name": "stdout",
          "text": [
            "installers\n",
            "permitting\n",
            "compelled\n",
            "mechanic\n",
            "sportstalk\n",
            "sacramento\n",
            "diode\n",
            "rf\n",
            "castigated\n",
            "objections\n",
            "hurry\n",
            "speicher\n",
            "georgia\n",
            "albanias\n",
            "excited\n",
            "toulmin\n",
            "narwhal\n",
            "loss\n",
            "kaithal\n",
            "azam\n"
          ]
        }
      ]
    },
    {
      "cell_type": "code",
      "source": [
        "# Does the Vocabulary contains contractions like \"can't\" or \"don't\"\n",
        "\"can't\" in word2index"
      ],
      "metadata": {
        "colab": {
          "base_uri": "https://localhost:8080/"
        },
        "id": "Bsl_m9CJ3L65",
        "outputId": "4127000b-baaa-4543-b495-bc44ee305028"
      },
      "execution_count": null,
      "outputs": [
        {
          "output_type": "execute_result",
          "data": {
            "text/plain": [
              "False"
            ]
          },
          "metadata": {},
          "execution_count": 19
        }
      ]
    },
    {
      "cell_type": "code",
      "source": [
        "\"don't\" in word2index"
      ],
      "metadata": {
        "colab": {
          "base_uri": "https://localhost:8080/"
        },
        "id": "xnCAg71_3Ymh",
        "outputId": "830da1dd-f115-4be3-f128-c614512ff185"
      },
      "execution_count": null,
      "outputs": [
        {
          "output_type": "execute_result",
          "data": {
            "text/plain": [
              "False"
            ]
          },
          "metadata": {},
          "execution_count": 20
        }
      ]
    },
    {
      "cell_type": "code",
      "source": [
        "\"dont\" in word2index"
      ],
      "metadata": {
        "colab": {
          "base_uri": "https://localhost:8080/"
        },
        "id": "IhL0I01C3l5R",
        "outputId": "009f60da-730c-408f-e6fb-c0adaacd55d6"
      },
      "execution_count": null,
      "outputs": [
        {
          "output_type": "execute_result",
          "data": {
            "text/plain": [
              "True"
            ]
          },
          "metadata": {},
          "execution_count": 21
        }
      ]
    },
    {
      "cell_type": "code",
      "source": [
        "\"hapy\" in word2index"
      ],
      "metadata": {
        "colab": {
          "base_uri": "https://localhost:8080/"
        },
        "id": "pGN88WSK3pfR",
        "outputId": "39eb93b4-56ea-4efc-b8ca-83cfa02a6c2c"
      },
      "execution_count": null,
      "outputs": [
        {
          "output_type": "execute_result",
          "data": {
            "text/plain": [
              "False"
            ]
          },
          "metadata": {},
          "execution_count": 22
        }
      ]
    },
    {
      "cell_type": "markdown",
      "source": [
        "## Distribution of word counts"
      ],
      "metadata": {
        "id": "w-Tf0M6l336W"
      }
    },
    {
      "cell_type": "markdown",
      "source": [
        "### Plot the word counts for every word in vocabulary"
      ],
      "metadata": {
        "id": "uFzFYf_838qu"
      }
    },
    {
      "cell_type": "code",
      "source": [
        "import seaborn as sns\n",
        "import matplotlib.pyplot as plt"
      ],
      "metadata": {
        "id": "o4xcV2Kg3sMx"
      },
      "execution_count": null,
      "outputs": []
    },
    {
      "cell_type": "code",
      "source": [
        "# get all word counts in list\n",
        "word_counts = list(word2count.values())\n",
        "\n",
        "# sort counts in descending order\n",
        "word_counts_desc = sorted(word_counts, reverse=True)\n",
        "\n",
        "print(\"Max count: {}\".format(word_counts_desc[0]))\n",
        "print(\"Min count: {}\".format(word_counts_desc[-1]))\n",
        "\n",
        "# x-axis\n",
        "word_ranks = range(0, len(word_counts_desc))\n",
        "\n",
        "sns.set(style=\"white\")\n",
        "\n",
        "# Applying logarithmic scale to y-axis\n",
        "plt.yscale('log')\n",
        "\n",
        "# creating line plot\n",
        "plt.plot(word_ranks, word_counts_desc)\n",
        "\n",
        "# labeling\n",
        "plt.xlabel(\"word rank\")\n",
        "plt.ylabel(\"word count\")\n",
        "plt.title('Distribution of word counts')\n",
        "\n",
        "plt.show()"
      ],
      "metadata": {
        "colab": {
          "base_uri": "https://localhost:8080/",
          "height": 515
        },
        "id": "0XtUB6VL4HVC",
        "outputId": "3bd51d46-3977-4595-bd74-91b25faef079"
      },
      "execution_count": null,
      "outputs": [
        {
          "output_type": "stream",
          "name": "stdout",
          "text": [
            "Max count: 360781\n",
            "Min count: 2\n"
          ]
        },
        {
          "output_type": "display_data",
          "data": {
            "text/plain": [
              "<Figure size 640x480 with 1 Axes>"
            ],
            "image/png": "[encoded data removed]"
          },
          "metadata": {}
        }
      ]
    },
    {
      "cell_type": "code",
      "source": [
        "# total number of tokens used in this pre-trained model\n",
        "total_tokens = np.sum(word_counts_desc)\n",
        "total_tokens"
      ],
      "metadata": {
        "colab": {
          "base_uri": "https://localhost:8080/"
        },
        "id": "nulLJIx65zMR",
        "outputId": "5f73ce77-2812-4504-f6ed-79613a4d4a2e"
      },
      "execution_count": null,
      "outputs": [
        {
          "output_type": "execute_result",
          "data": {
            "text/plain": [
              "7581005"
            ]
          },
          "metadata": {},
          "execution_count": 25
        }
      ]
    },
    {
      "cell_type": "code",
      "source": [
        "# what percentage of total tokens in the dataset do the top 10 words represent?\n",
        "top_10_word_count = np.sum(word_counts_desc[:10])\n",
        "percent = top_10_word_count / total_tokens\n",
        "percent * 100"
      ],
      "metadata": {
        "colab": {
          "base_uri": "https://localhost:8080/"
        },
        "id": "Duq6U7P66Kx5",
        "outputId": "307ff9e0-ccab-4697-9d43-745d1eac1998"
      },
      "execution_count": null,
      "outputs": [
        {
          "output_type": "execute_result",
          "data": {
            "text/plain": [
              "21.564964012027428"
            ]
          },
          "metadata": {},
          "execution_count": 26
        }
      ]
    },
    {
      "cell_type": "markdown",
      "source": [
        "## Word Vector Properties"
      ],
      "metadata": {
        "id": "rehvB-Cx6kkQ"
      }
    },
    {
      "cell_type": "code",
      "source": [
        "# printing the word vector for word 'science'\n",
        "index = word2index['science']\n",
        "word_vector_science = vectors[index]\n",
        "word_vector_science"
      ],
      "metadata": {
        "colab": {
          "base_uri": "https://localhost:8080/"
        },
        "id": "U7n2X-mj6hrx",
        "outputId": "ca7475bb-0c0d-405b-aa33-10d6b8e8fac3"
      },
      "execution_count": null,
      "outputs": [
        {
          "output_type": "execute_result",
          "data": {
            "text/plain": [
              "array([ 1.29408687e-01, -4.34683293e-01,  7.62890726e-02,  3.50730491e+00,\n",
              "       -3.88829261e-01,  1.10571229e+00,  1.83017051e+00, -1.63748765e+00,\n",
              "       -1.21251154e+00,  1.10289383e+00, -2.63813663e+00,  2.12799215e+00,\n",
              "       -2.26792932e+00, -2.36834288e+00, -2.40277439e-01, -4.01433420e+00,\n",
              "        6.23689257e-02,  1.79546320e+00,  7.54924893e-01, -5.02390504e-01,\n",
              "       -3.78446841e+00, -2.43693590e+00,  1.16099608e+00, -2.16766429e+00,\n",
              "       -1.17018342e+00, -4.75886488e+00,  4.03982639e+00, -3.94360662e-01,\n",
              "       -1.00139511e+00, -1.22853255e+00,  1.32163334e+00, -2.48321779e-02,\n",
              "        2.19313574e+00, -1.46642709e+00, -4.67770845e-01,  9.23152208e-01,\n",
              "       -1.31668997e+00,  1.32956982e+00,  4.40074730e+00, -1.23269200e+00,\n",
              "        9.14125860e-01, -2.49593973e+00,  3.94694135e-02, -1.10429704e-01,\n",
              "       -2.82072406e-02,  1.15402162e-01, -3.56829375e-01,  7.79948384e-02,\n",
              "       -6.89104557e-01,  3.14956784e+00, -8.14570069e-01, -2.06989980e+00,\n",
              "        4.20725965e+00,  3.08868766e+00,  2.22757387e+00, -2.09949279e+00,\n",
              "       -5.59342623e+00,  2.97539377e+00, -2.18568611e+00,  1.56171572e+00,\n",
              "        5.91332972e-01,  9.48118806e-01, -1.35433328e+00,  1.10086453e+00,\n",
              "        6.51295632e-02,  1.08473480e+00, -1.86015761e+00,  3.42351019e-01,\n",
              "        1.09370112e+00,  2.23096681e+00,  1.41056848e+00, -4.15479541e-01,\n",
              "       -4.78230429e+00,  6.93933308e-01, -2.83009672e+00, -1.86750129e-01,\n",
              "       -2.76509953e+00,  1.62482810e+00, -1.67464924e+00, -7.16851354e-01,\n",
              "        8.98302197e-01, -1.59562957e+00,  1.66056824e+00,  2.05286837e+00,\n",
              "        3.56406607e-02,  1.45207191e+00,  2.36556843e-01, -1.80444300e-01,\n",
              "       -3.10066676e+00, -1.04514277e+00, -3.51925850e-01, -1.08357668e+00,\n",
              "        4.63698435e+00,  1.85048640e+00, -1.41877052e-03,  1.95771348e+00,\n",
              "        6.14506304e-01, -3.31353283e+00,  3.29190421e+00, -1.14449525e+00],\n",
              "      dtype=float32)"
            ]
          },
          "metadata": {},
          "execution_count": 27
        }
      ]
    },
    {
      "cell_type": "code",
      "source": [
        "len(word_vector_science)"
      ],
      "metadata": {
        "colab": {
          "base_uri": "https://localhost:8080/"
        },
        "id": "ru9pyG1H64z3",
        "outputId": "dcb736f4-27b4-44e6-be67-6205982a782d"
      },
      "execution_count": null,
      "outputs": [
        {
          "output_type": "execute_result",
          "data": {
            "text/plain": [
              "100"
            ]
          },
          "metadata": {},
          "execution_count": 28
        }
      ]
    },
    {
      "cell_type": "code",
      "source": [
        "# does vector contains zero?\n",
        "np.count_nonzero(word_vector_science)"
      ],
      "metadata": {
        "colab": {
          "base_uri": "https://localhost:8080/"
        },
        "id": "mUOgQwS67AMe",
        "outputId": "14481d24-0d0f-4b4f-917b-0c534823cf2a"
      },
      "execution_count": null,
      "outputs": [
        {
          "output_type": "execute_result",
          "data": {
            "text/plain": [
              "100"
            ]
          },
          "metadata": {},
          "execution_count": 29
        }
      ]
    },
    {
      "cell_type": "code",
      "source": [
        "# min, max and average feature values of the vector\n",
        "np.min(word_vector_science), np.max(word_vector_science), np.mean(word_vector_science)"
      ],
      "metadata": {
        "colab": {
          "base_uri": "https://localhost:8080/"
        },
        "id": "-PiA-uOS7LWo",
        "outputId": "de7f6a0a-c7db-4bbc-962a-8eb043f46a4a"
      },
      "execution_count": null,
      "outputs": [
        {
          "output_type": "execute_result",
          "data": {
            "text/plain": [
              "(-5.593426, 4.6369843, -0.05908966)"
            ]
          },
          "metadata": {},
          "execution_count": 30
        }
      ]
    },
    {
      "cell_type": "markdown",
      "source": [
        "### Histogram of feature values"
      ],
      "metadata": {
        "id": "gB-Vas9c7o7F"
      }
    },
    {
      "cell_type": "code",
      "source": [
        "ax = sns.histplot(word_vector_science, kde = True)\n",
        "title = ax.set_title('Histogram of feature values for word vector science')\n",
        "\n",
        "plt.show()"
      ],
      "metadata": {
        "colab": {
          "base_uri": "https://localhost:8080/",
          "height": 457
        },
        "id": "u-yyiL-37kzO",
        "outputId": "37fde308-b6a9-4a0f-e537-62e4309f9fcf"
      },
      "execution_count": null,
      "outputs": [
        {
          "output_type": "display_data",
          "data": {
            "text/plain": [
              "<Figure size 640x480 with 1 Axes>"
            ],
            "image/png": "[encoded data removed]"
          },
          "metadata": {}
        }
      ]
    }
  ]
}